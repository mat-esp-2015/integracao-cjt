{
 "cells": [
  {
   "cell_type": "markdown",
   "metadata": {},
   "source": [
    "**Course website**: http://www.leouieda.com/matematica-especial\n",
    "\n",
    "**Note**: This notebook is part of the course \"Matemática Especial I\" of the [Universidade do Estado do Rio de Janeiro](http://www.uerj.br/). All content can be freely used and adapted under the terms of the \n",
    "[Creative Commons Attribution 4.0 International License](http://creativecommons.org/licenses/by/4.0/).\n",
    "\n",
    "![Creative Commons License](https://i.creativecommons.org/l/by/4.0/88x31.png)"
   ]
  },
  {
   "cell_type": "markdown",
   "metadata": {},
   "source": [
    "# Integração Numérica"
   ]
  },
  {
   "cell_type": "markdown",
   "metadata": {},
   "source": [
    "## Imports\n",
    "\n",
    "Coloque **todos** os `import` na célula abaixo. Não se esqueça do `%matplotlib inline` para que os gráficos apareçam no notebook."
   ]
  },
  {
   "cell_type": "code",
   "execution_count": 5,
   "metadata": {
    "collapsed": true
   },
   "outputs": [],
   "source": [
    "# Dessa vez vamos precisar da biblioteca matemática \"math\"\n",
    "# Ela define funções como sin, cos, tan, exp e constantes como pi\n",
    "import math"
   ]
  },
  {
   "cell_type": "markdown",
   "metadata": {},
   "source": [
    "## Regra dos retângulos\n",
    "\n",
    "O jeito mais simples de integração numérica é a regra dos retângulos. Nela, aproximamos a integral pela soma das áreas de retângulos. Cada retângulo se encontra abaixo de um dos pontos dos dados. A largura do retângulo é o espaçamento entre os dados $\\Delta$. A altura do retângulo é o valor do dado naquela posição $d_i$.\n",
    "\n",
    "Se tivermos nossos dados em um vetor de dados $\\bar{d}$ (**nota**: vetores serão representados com uma barra em cima):\n",
    "\n",
    "$$\n",
    "\\bar{d} = \\left[ d_1 ~ d_2 ~ d_3 ~ \\ldots ~ d_N \\right],\n",
    "$$\n",
    "\n",
    "a integral poderá ser aproximada pela soma das áreas dos retângulos:\n",
    "\n",
    "$$\n",
    "A = \\sum\\limits_{i=1}^{N} \\Delta d_i\n",
    "$$"
   ]
  },
  {
   "cell_type": "markdown",
   "metadata": {},
   "source": [
    "### Algoritmo\n",
    "\n",
    "Utilize a célula vazia abaixo (tipo Markdown) para colocar uma descrição do algoritmo em português (não em código). Não se esqueça de relacionar os passos do algoritmo com as fórmulas matemáticas do método.\n",
    "\n",
    "**Dicas**:\n",
    "\n",
    "* Help sobre Markdown: https://help.github.com/articles/markdown-basics/\n",
    "* Como utilizar fórmulas matemáticas: https://www.sharelatex.com/learn/Mathematical_expressions\n"
   ]
  },
  {
   "cell_type": "markdown",
   "metadata": {},
   "source": []
  },
  {
   "cell_type": "markdown",
   "metadata": {},
   "source": [
    "### Dados para teste\n",
    "\n",
    "Vamos utilizar dados gerados a partir de uma função $d(t) = \\cos(t)$ para testar o método de integração. A vantagem do cosseno é que sabemos quanto deve ser a integral:\n",
    "\n",
    "$$\n",
    "\\int\\limits_a^b \\cos(t) dt = \\sin(b) - \\sin(a)\n",
    "$$\n",
    "\n",
    "O código abaixo gera duas listas: uma com os tempos variando entre os limites de integração; outra com os valores correspondentes do cosseno."
   ]
  },
  {
   "cell_type": "code",
   "execution_count": 6,
   "metadata": {
    "collapsed": false
   },
   "outputs": [
    {
     "name": "stdout",
     "output_type": "stream",
     "text": [
      "('Espa\\xc3\\xa7amento entre os dados:', 0.0320570678937734)\n"
     ]
    }
   ],
   "source": [
    "# inicio e fim são os intervalos de integração\n",
    "inicio = 0\n",
    "fim = math.pi/2 # Funções trigonométricas utilizam ângulos em radianos!\n",
    "N = 50\n",
    "# Precisamos saber o intervalo entre cada ponto dos dados\n",
    "# A divisão é por N - 1 pois existem N - 1 intervalos entre N pontos\n",
    "intervalo = (fim - inicio)/(N - 1)\n",
    "print(\"Espaçamento entre os dados:\", intervalo)\n",
    "tempos = []\n",
    "dados = []\n",
    "for i in range(N):\n",
    "    t = inicio + i*intervalo\n",
    "    tempos.append(t)\n",
    "    dados.append(math.cos(t))"
   ]
  },
  {
   "cell_type": "markdown",
   "metadata": {},
   "source": [
    "Utilize a célula abaixo para gerar um gráfico de `dados` por `tempos`."
   ]
  },
  {
   "cell_type": "code",
   "execution_count": 7,
   "metadata": {
    "collapsed": false
   },
   "outputs": [
    {
     "data": {
      "text/plain": [
       "<matplotlib.text.Text at 0x7f1c92366310>"
      ]
     },
     "execution_count": 7,
     "metadata": {},
     "output_type": "execute_result"
    },
    {
     "data": {
      "image/png": "[encoded data removed]",
      "text/plain": [
       "<matplotlib.figure.Figure at 0x7f1c943a5bd0>"
      ]
     },
     "metadata": {},
     "output_type": "display_data"
    }
   ],
   "source": [
    "%matplotlib inline # comando que gera o gráfico no jupyter\n",
    "import matplotlib.pyplot as plt #comando para importar a biblioteca para gerar a figura\n",
    "plt.figure()#cria uma figura\n",
    "plt.plot(tempos, dados, \"ok\") #determina quais são as variaveis que irão aparecer na figura e ok determina que o gráfico será de pontos pretos \n",
    "plt.xlabel('Tempos')#nomeia o eixo x\n",
    "plt.ylabel('Dados')#nomeia o eixo y"
   ]
  },
  {
   "cell_type": "raw",
   "metadata": {},
   "source": [
    "### Implementação\n",
    "\n",
    "Implemente a regra dos retângulos para integrar os dados gerados acima. Coloque seu cógido na célula abaixo."
   ]
  },
  {
   "cell_type": "raw",
   "metadata": {},
   "source": []
  },
  {
   "cell_type": "code",
   "execution_count": 8,
   "metadata": {
    "collapsed": false
   },
   "outputs": [
    {
     "name": "stdout",
     "output_type": "stream",
     "text": [
      "1.01594289451\n"
     ]
    }
   ],
   "source": [
    "integral = 0 #cria uma variavel\n",
    "for valor in dados:#irá calcular a integral para cada valor e fazer o somatorio final\n",
    "    integral = valor*intervalo + integral#calculo da integral, que é a área, ou seja a soma dos retangulos\n",
    "print (integral)#imprime o valor final"
   ]
  },
  {
   "cell_type": "markdown",
   "metadata": {},
   "source": [
    "Nas células abaixo calcule e imprima:\n",
    "\n",
    "1. A solução analítica (verdadeira) para a integral\n",
    "2. O erro cometido $E = \\left|res_{true} - res_{calc}\\right|$\n",
    "\n",
    "Dica: a função `abs` calcula o valor absoluto de um número."
   ]
  },
  {
   "cell_type": "code",
   "execution_count": 9,
   "metadata": {
    "collapsed": false
   },
   "outputs": [
    {
     "name": "stdout",
     "output_type": "stream",
     "text": [
      "0.0159428945133\n"
     ]
    }
   ],
   "source": [
    "import math #calculo do erro\n",
    "analitico = math.sin(math.pi/2)- math.sin(0) #calcula o valor teorico\n",
    "erro = abs(analitico - integral) # valor teorico menos o real\n",
    "print(erro)#imprime o erro\n",
    "\n",
    "\n",
    "\n"
   ]
  },
  {
   "cell_type": "markdown",
   "metadata": {},
   "source": [
    "**Responda na célula abaixo:** Por que o erro não é zero e quais são os fatores que influenciam o erro?"
   ]
  },
  {
   "cell_type": "markdown",
   "metadata": {},
   "source": [
    "Ao calcular a integral por retângulos considera-se áreas sobressalentes dos mesmos, logo, o valor numérico fica maior do que o valor analítico. \n"
   ]
  },
  {
   "cell_type": "markdown",
   "metadata": {},
   "source": [
    "### Resultado esperado\n",
    "\n",
    "No caso acima estamos integrando o cosseno de 0 a $\\pi/2$, então o valor esperado da integral é 1. Seu resultado não será exatamente 1 mas deve estar entre 0.9 e 1.1."
   ]
  },
  {
   "cell_type": "markdown",
   "metadata": {},
   "source": [
    "## Regra dos trapézios\n",
    "\n",
    "A regra dos trapézios é parecida com a regra dos retângulos. Mas utilizaremos a área de um trapézio ao invés da área de um retângulo. O trapézio será definido com base em dois pontos adjacentes nos dados ($d_i$ e $d_{i+1}$, por exemplo).\n",
    "\n",
    "$$\n",
    "A = \\sum\\limits_{i=1}^{N - 1} \\Delta \\frac{d_i + d_{i+1}}{2}\n",
    "$$"
   ]
  },
  {
   "cell_type": "markdown",
   "metadata": {},
   "source": [
    "### Algoritmo\n",
    "\n",
    "Descreva abaixo o algoritmo utilizado (em português) para fazer a integração numérica utilizando a regra dos trapézios."
   ]
  },
  {
   "cell_type": "markdown",
   "metadata": {},
   "source": []
  },
  {
   "cell_type": "markdown",
   "metadata": {},
   "source": [
    "### Implementação\n",
    "\n",
    "Vamos utilizar os mesmo dados utilizados na regra dos retângulos (na dúvida, rode novamente a célula que gera os dados). Abaixo, escreva e rode o código que faz a integração numérica com a regra dos trapézios. "
   ]
  },
  {
   "cell_type": "code",
   "execution_count": 10,
   "metadata": {
    "collapsed": false
   },
   "outputs": [
    {
     "name": "stdout",
     "output_type": "stream",
     "text": [
      "0.999914360566\n"
     ]
    }
   ],
   "source": [
    "integral_t = 0 #processo semelhante ao de cima mas o calculo é feito para trapézios e não retângulos\n",
    "N = len(dados)\n",
    "for i in range (0, N - 1, 1):\n",
    "    integral_t = intervalo*(dados[i] + dados[i + 1])/2 + integral_t\n",
    "print(integral_t)\n"
   ]
  },
  {
   "cell_type": "markdown",
   "metadata": {},
   "source": [
    "Calcule e imprima também a solução analíca e o erro cometido."
   ]
  },
  {
   "cell_type": "code",
   "execution_count": 11,
   "metadata": {
    "collapsed": false
   },
   "outputs": [
    {
     "name": "stdout",
     "output_type": "stream",
     "text": [
      "8.56394336369e-05\n"
     ]
    }
   ],
   "source": [
    "import math#o processo de calculo do erro é o mesmo\n",
    "analitico = math.sin(math.pi/2)- math.sin(0)\n",
    "erro_t = abs(analitico - integral_t)\n",
    "print(erro_t)"
   ]
  },
  {
   "cell_type": "markdown",
   "metadata": {},
   "source": [
    "**Responda na célula abaixo:** O erro é maior ou menos que para a regra dos retângulos? Por que? Você esperava isso?"
   ]
  },
  {
   "cell_type": "markdown",
   "metadata": {},
   "source": []
  },
  {
   "cell_type": "markdown",
   "metadata": {},
   "source": [
    "É menor. Porque as áreas antes consideradas, já não são mais contabilizadas e com isso o erro diminui. Sim pois esta era a intenção de se utilizar uma figura geométrica mais próxima à forma real."
   ]
  },
  {
   "cell_type": "markdown",
   "metadata": {},
   "source": [
    "### Resultado esperado\n",
    "\n",
    "Novamente, o valos esperado é 1 mas seu resultado não será exatamente 1 (mas deve estar entre 0.9 e 1.1)."
   ]
  },
  {
   "cell_type": "markdown",
   "metadata": {},
   "source": [
    "## Comparação dos dois métodos\n",
    "\n",
    "Vamos comparar o erro de ambos métodos. Uma comparação muito utilizada em métodos numéricos em geral é como o erro varia com o número de dados (ou pontos) utilizados.\n",
    "\n",
    "Nas células abaixo, calcule o erro da integração numérica para diferentes valores de `N`. Os valores de N deverão variar de 10 a 1000 de 10 em 10. Mantenha os intervalos de integração entre $0$ e $\\pi/2$. Faça esse cálculo para os dois métodos: retângulos e trapézios.\n",
    "\n",
    "Ao final, faça um gráfico do erro pelos valores de `N`. O gráfico deverá ter duas curvas, uma para cada método. O eixo y (erros) deverá estar em escala logarítmica.\n",
    "\n",
    "**Dicas**: \n",
    "\n",
    "* Gere uma lista dos valores de `N`.\n",
    "* Para colocar o eixo y em escala log: `plt.yscale('log')`"
   ]
  },
  {
   "cell_type": "code",
   "execution_count": 63,
   "metadata": {
    "collapsed": false
   },
   "outputs": [
    {
     "name": "stdout",
     "output_type": "stream",
     "text": [
      "[10, 20, 30, 40, 50, 60, 70, 80, 90, 100, 110, 120, 130, 140, 150, 160, 170, 180, 190, 200, 210, 220, 230, 240, 250, 260, 270, 280, 290, 300, 310, 320, 330, 340, 350, 360, 370, 380, 390, 400, 410, 420, 430, 440, 450, 460, 470, 480, 490, 500, 510, 520, 530, 540, 550, 560, 570, 580, 590, 600, 610, 620, 630, 640, 650, 660, 670, 680, 690, 700, 710, 720, 730, 740, 750, 760, 770, 780, 790, 800, 810, 820, 830, 840, 850, 860, 870, 880, 890, 900, 910, 920, 930, 940, 950, 960, 970, 980, 990]\n"
     ]
    }
   ],
   "source": [
    "lista = [] #cria uma nova lista, q cada valor será uma quantidades de pontos\n",
    "for valor in range(10, 1000, 10): #a lista terá valores de 10 em 10 e terá 99 elementos\n",
    "    lista.append(valor)\n",
    "print(lista)"
   ]
  },
  {
   "cell_type": "code",
   "execution_count": 72,
   "metadata": {
    "collapsed": false
   },
   "outputs": [
    {
     "name": "stdout",
     "output_type": "stream",
     "text": [
      "0.0160285339469\n"
     ]
    }
   ],
   "source": [
    "N = len(lista)#numero de compornentes na lista\n",
    "intervalo = (fim - inicio)/(N - 1) #intervalo entre os pontos\n",
    "print(intervalo)"
   ]
  },
  {
   "cell_type": "code",
   "execution_count": 107,
   "metadata": {
    "collapsed": false
   },
   "outputs": [
    {
     "name": "stdout",
     "output_type": "stream",
     "text": [
      "[0.9974602317917262, 0.9994303595982759, 0.9997554972492992, 0.9998648110993812, 0.9999143605663631, 0.9999409310004358, 0.9999568119020372, 0.9999670536591537, 0.9999740414308974, 0.999979020750832, 0.999982693588919, 0.9999854800257423, 0.9999876439356719, 0.9999893578388284, 0.9999907383838921, 0.9999918667341947, 0.9999928007753789, 0.999993582690233, 0.9999942438063029, 0.9999948077833422, 0.9999952927599657, 0.9999957128305357, 0.9999960790808794, 0.9999964003272636, 0.9999966836519615, 0.9999969347969708, 0.999997158457246, 0.9999973585017281, 0.9999975381417898, 0.9999977000609289, 0.9999978465155692, 0.999997979414103, 0.9999981003793714, 0.9999982107984449, 0.9999983118625644, 0.9999984045994057, 0.9999984898993073, 0.999998568536719, 0.9999986411878441, 0.999998708445226, 0.9999987708298677, 0.9999988288013486, 0.9999988827663163, 0.9999989330856416, 0.9999989800804546, 0.9999990240372962, 0.9999990652124845, 0.9999991038358655, 0.9999991401140264, 0.9999991742330654, 0.9999992063609796, 0.9999992366497382, 0.9999992652370848, 0.9999992922481084, 0.999999317796602, 0.9999993419862797, 0.9999993649118187, 0.9999993866597953, 0.9999994073094935, 0.9999994269336437, 0.9999994455990431, 0.9999994633671476, 0.9999994802945594, 0.999999496433494, 0.9999995118321698, 0.9999995265351749, 0.9999995405837916, 0.9999995540162862, 0.9999995668681682, 0.999999579172421, 0.9999995909597251, 0.9999996022586335, 0.9999996130957637, 0.9999996234959398, 0.9999996334823409, 0.9999996430766293, 0.9999996522990643, 0.9999996611686222, 0.9999996697030752, 0.9999996779190946, 0.99999968583233, 0.9999996934574733, 0.9999997008083464, 0.9999997078979455, 0.9999997147385064, 0.999999721341557, 0.9999997277179714, 0.9999997338779977, 0.9999997398313233, 0.9999997455870893, 0.999999751153943, 0.9999997565400625, 0.9999997617531873, 0.9999997668006466, 0.9999997716893867, 0.9999997764259899, 0.9999997810167125, 0.9999997854674765, 0.9999997897839139]\n",
      "[1.0847266943914422, 1.0407671050402472, 1.0268381925388663, 1.0200032255454698, 1.01594289451325, 1.0132527642783586, 1.0113393939802604, 1.0099088025629184, 1.0087987398960374, 1.0079123355326245, 1.00718818132651, 1.0065854645921066, 1.0060760017914667, 1.0056397043380907, 1.005261866997298, 1.0049314778247442, 1.004640127186015, 1.0043812819270905, 1.0041497896443843, 1.0039415322225256, 1.003753178709236, 1.0035820058140863, 1.0034257653839251, 1.0032825851113536, 1.0031508931435174, 1.003029360138274, 1.0029168542319578, 1.0028124056823637, 1.0027151788455864, 1.0026244497712875, 1.0025395881446875, 1.002460042622246, 1.0023853288395463, 1.0023150195400292, 1.0022487363995207, 1.0021861432161114, 1.0021269402066169, 1.0020708592053131, 1.0020176596027477, 1.0019671248948447, 1.00191905973793, 1.0018732874252085, 1.0018296477159607, 1.0017879949612605, 1.001748196480003, 1.0017101311470937, 1.0016736881621586, 1.0016387659723947, 1.0016052713275188, 1.001573118448292, 1.0015422282929982, 1.0015125279086927, 1.0014839498559853, 1.0014564316978256, 1.0014299155441382, 1.0014043476453074, 1.0013796780285107, 1.0013558601717083, 1.001332850710848, 1.0013106091763762, 1.0012890977556892, 1.0012682810786138, 1.0012481260233315, 1.0012286015405325, 1.0012096784937978, 1.0011913295145345, 1.001173528869888, 1.0011562523423512, 1.0011394771198343, 1.0011231816951638, 1.0011073457741058, 1.0010919501910356, 1.0010769768315615, 1.00106240856143, 1.001048229161108, 1.0010344232655577, 1.0010209763086853, 1.001007874472085, 1.000995104637674, 1.0009826543438742, 1.000970511745058, 1.0009586655739537, 1.000947105106776, 1.0009358201308394, 1.000924800914474, 1.0009140381790407, 1.0009035230728587, 1.0008932471469354, 1.000883202332332, 1.0008733809190118, 1.0008637755361205, 1.0008543791335338, 1.0008451849645952, 1.000836186569971, 1.0008273777625127, 1.0008187526130579, 1.0008103054371433, 1.0008020307824876, 1.0007939234172814]\n"
     ]
    }
   ],
   "source": [
    "retangulos = []\n",
    "trapezios = []\n",
    "for valor in lista: #calculo do intervalo para cada numero de pontos/ e todos os outros valores são obtidos dentro deste loop\n",
    "    intervalo = (fim - inicio)/(valor - 1)\n",
    "    Dados = [] #para valer sempre 0 quando se faz um novo calculo, e não somar com o anterior\n",
    "    for i in range(valor):#obtenção de um novo valor para a lista dados, para cada intervalo\n",
    "        t = inicio + i*intervalo\n",
    "        Dados.append(math.cos(t))#acrescenta valores na lista Dados\n",
    "    integral_r = 0 #para valer sempre 0 quando se faz um novo calculo, e não somar com o anterior\n",
    "    for j in Dados: #valor da integral para caqda elemnto de Dados\n",
    "        integral_r = j*intervalo + integral_r #calculo da integral, que é a área, ou seja a soma dos retangulos\n",
    "    retangulos.append(integral_r)#acrescenta valores na lista retangulos\n",
    "    integral_tr = 0 #para valer sempre 0 quando se faz um novo calculo, e não somar com o anterior\n",
    "    for j in range(0, valor - 1, 1):#calculo da integral, que é a área, ou seja a soma dos trapezios\n",
    "        integral_tr = intervalo*(Dados[j] + Dados[j + 1])/2 + integral_tr\n",
    "    trapezios.append(integral_tr)#acrescenta valores na lista trapézios\n",
    "print(trapezios) \n",
    "print (retangulos)"
   ]
  },
  {
   "cell_type": "code",
   "execution_count": 91,
   "metadata": {
    "collapsed": false
   },
   "outputs": [
    {
     "name": "stdout",
     "output_type": "stream",
     "text": [
      "[0.0847266943914422, 0.040767105040247165, 0.026838192538866323, 0.02000322554546985, 0.01594289451325004, 0.013252764278358642, 0.011339393980260404, 0.009908802562918373, 0.00879873989603741, 0.007912335532624493, 0.007188181326510001, 0.006585464592106627, 0.006076001791466723, 0.00563970433809069, 0.005261866997297915, 0.004931477824744235, 0.004640127186015031, 0.00438128192709053, 0.004149789644384283, 0.003941532222525579, 0.0037531787092359714, 0.0035820058140862976, 0.003425765383925139, 0.0032825851113535975, 0.0031508931435173526, 0.00302936013827404, 0.002916854231957755, 0.002812405682363739, 0.0027151788455863635, 0.002624449771287507, 0.0025395881446874657, 0.0024600426222460836, 0.0023853288395463412, 0.0023150195400292173, 0.0022487363995207232, 0.002186143216111436, 0.0021269402066168563, 0.002070859205313136, 0.00201765960274769, 0.0019671248948447406, 0.0019190597379299401, 0.0018732874252085363, 0.001829647715960725, 0.001787994961260475, 0.001748196480003017, 0.0017101311470937297, 0.0016736881621586264, 0.0016387659723946513, 0.0016052713275187536, 0.0015731184482921101, 0.0015422282929982156, 0.001512527908692718, 0.0014839498559853226, 0.0014564316978256109, 0.0014299155441381828, 0.001404347645307391, 0.001379678028510689, 0.0013558601717083008, 0.0013328507108480991, 0.001310609176376154, 0.0012890977556891947, 0.0012682810786137644, 0.001248126023331464, 0.0012286015405325035, 0.0012096784937978278, 0.0011913295145344893, 0.0011735288698879742, 0.0011562523423511717, 0.001139477119834309, 0.0011231816951637885, 0.0011073457741057613, 0.0010919501910355844, 0.0010769768315614936, 0.0010624085614299172, 0.0010482291611080274, 0.0010344232655576935, 0.0010209763086852508, 0.0010078744720849464, 0.000995104637673938, 0.0009826543438742341, 0.0009705117450580225, 0.0009586655739537431, 0.0009471051067759806, 0.000935820130839371, 0.0009248009144739999, 0.0009140381790406771, 0.0009035230728586807, 0.0008932471469353942, 0.0008832023323319671, 0.0008733809190117903, 0.0008637755361204924, 0.0008543791335338113, 0.0008451849645951803, 0.0008361865699710869, 0.0008273777625127376, 0.0008187526130578604, 0.0008103054371433327, 0.0008020307824876394, 0.0007939234172813503]\n"
     ]
    }
   ],
   "source": [
    "import math# erro para cada valor da lista retangulos\n",
    "analitico = math.sin(math.pi/2)- math.sin(0)\n",
    "erro_r = []\n",
    "for valor in retangulos:\n",
    "    erros = abs(analitico - valor)\n",
    "    erro_r.append(erros)\n",
    "print(erro_r)\n"
   ]
  },
  {
   "cell_type": "code",
   "execution_count": 108,
   "metadata": {
    "collapsed": false
   },
   "outputs": [
    {
     "name": "stdout",
     "output_type": "stream",
     "text": [
      "[0.0025397682082738404, 0.0005696404017241363, 0.0002445027507007591, 0.00013518890061881006, 8.563943363693038e-05, 5.906899956420464e-05, 4.318809796277634e-05, 3.294634084627379e-05, 2.5958569102590978e-05, 2.0979249167996095e-05, 1.7306411080997286e-05, 1.451997425772067e-05, 1.2356064328145067e-05, 1.0642161171636744e-05, 9.261616107925086e-06, 8.133265805287948e-06, 7.199224621112776e-06, 6.417309767026147e-06, 5.756193697137313e-06, 5.1922166578455275e-06, 4.707240034318438e-06, 4.287169464323171e-06, 3.92091912060355e-06, 3.599672736442905e-06, 3.31634803851788e-06, 3.0652030291733467e-06, 2.841542753984072e-06, 2.6414982718936386e-06, 2.4618582101787467e-06, 2.2999390710820578e-06, 2.1534844307780077e-06, 2.020585897044569e-06, 1.8996206285759598e-06, 1.7892015551357332e-06, 1.6881374356181311e-06, 1.5954005943008553e-06, 1.510100692714289e-06, 1.4314632810208394e-06, 1.3588121559049426e-06, 1.291554774018877e-06, 1.2291701323441373e-06, 1.1711986513951445e-06, 1.1172336836784424e-06, 1.0669143584163265e-06, 1.0199195453752807e-06, 9.759627037642105e-07, 9.347875155052421e-07, 8.961641344562565e-07, 8.598859736475006e-07, 8.257669346090069e-07, 7.936390203910904e-07, 7.633502617787613e-07, 7.347629151777113e-07, 7.077518916487335e-07, 6.822033979947406e-07, 6.580137202893965e-07, 6.350881812666742e-07, 6.133402047359127e-07, 5.926905064512766e-07, 5.730663562575344e-07, 5.544009569202757e-07, 5.366328523770392e-07, 5.197054405714496e-07, 5.035665060493244e-07, 4.881678301593695e-07, 4.734648251236706e-07, 4.594162084092801e-07, 4.459837138481859e-07, 4.3313183184512383e-07, 4.2082757900629986e-07, 4.0904027487354e-07, 3.9774136650905234e-07, 3.869042363158215e-07, 3.7650406015110605e-07, 3.665176591116648e-07, 3.569233707478858e-07, 3.477009357100158e-07, 3.3883137784407324e-07, 3.302969248109022e-07, 3.220809053905427e-07, 3.141676699902618e-07, 3.065425266957078e-07, 2.9919165356329103e-07, 2.921020545443298e-07, 2.8526149364882514e-07, 2.7865844298702314e-07, 2.722820285905314e-07, 2.6612200232367655e-07, 2.601686767134126e-07, 2.544129107384663e-07, 2.488460569827211e-07, 2.434599375433777e-07, 2.3824681272266446e-07, 2.3319935338328435e-07, 2.283106133038615e-07, 2.2357401008310518e-07, 2.1898328750324936e-07, 2.1453252352365837e-07, 2.102160860939506e-07]\n"
     ]
    }
   ],
   "source": [
    "import math#erro para cada valor da lista trapezios\n",
    "analitico = math.sin(math.pi/2)- math.sin(0)\n",
    "erro_tr = []\n",
    "for valor in trapezios:\n",
    "    erro_t = abs(analitico - valor)\n",
    "    erro_tr.append(erro_t)\n",
    "print(erro_tr)"
   ]
  },
  {
   "cell_type": "code",
   "execution_count": 109,
   "metadata": {
    "collapsed": false
   },
   "outputs": [
    {
     "data": {
      "image/png": "[encoded data removed]",
      "text/plain": [
       "<matplotlib.figure.Figure at 0x7f1c922fa0d0>"
      ]
     },
     "metadata": {},
     "output_type": "display_data"
    }
   ],
   "source": [
    "%matplotlib inline #cria a figura no jupyter\n",
    "import matplotlib.pyplot as plt#importa a biblioteca para criação da figura\n",
    "plt.figure() #cria uma figura\n",
    "plt.plot(lista, erro_r, \"-b\" )#importa os dados para o grafico, em forma de linha azul\n",
    "plt.plot(lista, erro_tr, \"-r\")#importa os dados para o grafico, em forma de linha vermelha\n",
    "plt.xlabel('Numeros de dados')#nomeia o eixo x\n",
    "plt.ylabel('Erro') #nomeia o eixo y\n",
    "plt.yscale('log')#determina que os valores do eixo y estejam em escala logaritimica"
   ]
  },
  {
   "cell_type": "raw",
   "metadata": {},
   "source": [
    "**Responda na célula abaixo**: Como o erro varia com `N` para os dois métodos? Aumentar o número de dados de 50 para 200 nos dá a mesma diminuição no erro que aumentar de 650 para 800? Sempre vale a pena utilizar mais dados (lembre-se que a escala é logarítmica)? "
   ]
  },
  {
   "cell_type": "markdown",
   "metadata": {},
   "source": []
  },
  {
   "cell_type": "markdown",
   "metadata": {},
   "source": [
    "### Resultado esperado\n",
    "\n",
    "O gráfico ao final deverá ser parecido com:\n",
    "\n",
    "![images/erro-por-ndados.png](images/erro-por-ndados.png)"
   ]
  },
  {
   "cell_type": "markdown",
   "metadata": {},
   "source": [
    "## Tarefa bônus: Probabilidades\n",
    "\n",
    "Vamos assumir que uma variável aleatória $x$ segue uma [distribuição normal](https://en.wikipedia.org/wiki/Normal_distribution) com média zero e desvio padrão $\\sigma$. Isso quer dizer que a [densidade de probabilidade](https://en.wikipedia.org/wiki/Probability_density_function) para $x$ é\n",
    "\n",
    "$$\n",
    "f(x) = \\frac{1}{\\sigma\\sqrt{2\\pi}} \\exp \\left( -\\frac{x^2}{2 \\sigma^2} \\right)\n",
    "$$\n",
    "\n",
    "A probabilidade de $x$ cair no intervalo $[a, b]$ é dada por ([refência](https://en.wikipedia.org/wiki/Probability_distribution#Continuous_probability_distribution)):\n",
    "\n",
    "$$\n",
    "P(a \\leq x \\leq b) = \\int\\limits_a^b f(x) dx\n",
    "$$\n",
    "\n",
    "Calcule na célula abaixo qual é a probabilidade de $x$ estar entre $[-\\sigma, +\\sigma]$ para $\\sigma = 5$."
   ]
  },
  {
   "cell_type": "code",
   "execution_count": null,
   "metadata": {
    "collapsed": true
   },
   "outputs": [],
   "source": []
  }
 ],
 "metadata": {
  "kernelspec": {
   "display_name": "Python 2",
   "language": "python",
   "name": "python2"
  },
  "language_info": {
   "codemirror_mode": {
    "name": "ipython",
    "version": 2
   },
   "file_extension": ".py",
   "mimetype": "text/x-python",
   "name": "python",
   "nbconvert_exporter": "python",
   "pygments_lexer": "ipython2",
   "version": "2.7.10"
  }
 },
 "nbformat": 4,
 "nbformat_minor": 0
}
